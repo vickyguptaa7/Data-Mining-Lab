{
 "cells": [
  {
   "cell_type": "markdown",
   "id": "7f786299",
   "metadata": {},
   "source": [
    "#### CODE : Entropy "
   ]
  },
  {
   "cell_type": "code",
   "execution_count": 1,
   "id": "1dc24a72",
   "metadata": {},
   "outputs": [],
   "source": [
    "import numpy as np"
   ]
  },
  {
   "cell_type": "code",
   "execution_count": 2,
   "id": "224d00cf",
   "metadata": {},
   "outputs": [],
   "source": [
    "def entropy(var):\n",
    "    N = var.shape[0]\n",
    "    values, counts = np.unique(var, return_counts=True )\n",
    "    \n",
    "    ent = 0.0\n",
    "    \n",
    "    for i in counts:\n",
    "        p = i/N\n",
    "        ent += (p * np.log2(p))\n",
    "        \n",
    "    return -ent"
   ]
  },
  {
   "cell_type": "code",
   "execution_count": 3,
   "id": "635e0e79",
   "metadata": {},
   "outputs": [],
   "source": [
    "Y = np.array([1,0,0,1,0,1,0,1])"
   ]
  },
  {
   "cell_type": "code",
   "execution_count": 4,
   "id": "28867b1b",
   "metadata": {},
   "outputs": [],
   "source": [
    "X = np.array([1,1,1,1,1,1,1])"
   ]
  },
  {
   "cell_type": "code",
   "execution_count": 5,
   "id": "082b5ea3",
   "metadata": {},
   "outputs": [
    {
     "data": {
      "text/plain": [
       "1.0"
      ]
     },
     "execution_count": 5,
     "metadata": {},
     "output_type": "execute_result"
    }
   ],
   "source": [
    "entropy(Y)"
   ]
  },
  {
   "cell_type": "code",
   "execution_count": 6,
   "id": "45553195",
   "metadata": {},
   "outputs": [
    {
     "data": {
      "text/plain": [
       "-0.0"
      ]
     },
     "execution_count": 6,
     "metadata": {},
     "output_type": "execute_result"
    }
   ],
   "source": [
    "entropy(X)"
   ]
  },
  {
   "cell_type": "code",
   "execution_count": null,
   "id": "c182c047",
   "metadata": {},
   "outputs": [],
   "source": []
  },
  {
   "cell_type": "markdown",
   "id": "a46840bc",
   "metadata": {},
   "source": [
    "### CODE : Split Data"
   ]
  },
  {
   "cell_type": "code",
   "execution_count": 7,
   "id": "d99f49fb",
   "metadata": {},
   "outputs": [],
   "source": [
    "import pandas as pd"
   ]
  },
  {
   "cell_type": "code",
   "execution_count": 8,
   "id": "f4c23622",
   "metadata": {},
   "outputs": [],
   "source": [
    "df = pd.read_csv('file.csv')\n",
    "output_feature='buys_computer'"
   ]
  },
  {
   "cell_type": "code",
   "execution_count": 9,
   "id": "54c8abba",
   "metadata": {},
   "outputs": [
    {
     "data": {
      "text/html": [
       "<div>\n",
       "<style scoped>\n",
       "    .dataframe tbody tr th:only-of-type {\n",
       "        vertical-align: middle;\n",
       "    }\n",
       "\n",
       "    .dataframe tbody tr th {\n",
       "        vertical-align: top;\n",
       "    }\n",
       "\n",
       "    .dataframe thead th {\n",
       "        text-align: right;\n",
       "    }\n",
       "</style>\n",
       "<table border=\"1\" class=\"dataframe\">\n",
       "  <thead>\n",
       "    <tr style=\"text-align: right;\">\n",
       "      <th></th>\n",
       "      <th>age</th>\n",
       "      <th>income</th>\n",
       "      <th>student</th>\n",
       "      <th>credit_rating</th>\n",
       "      <th>buys_computer</th>\n",
       "    </tr>\n",
       "  </thead>\n",
       "  <tbody>\n",
       "    <tr>\n",
       "      <th>0</th>\n",
       "      <td>&lt;=30</td>\n",
       "      <td>high</td>\n",
       "      <td>no</td>\n",
       "      <td>fair</td>\n",
       "      <td>no</td>\n",
       "    </tr>\n",
       "    <tr>\n",
       "      <th>1</th>\n",
       "      <td>&lt;=30</td>\n",
       "      <td>high</td>\n",
       "      <td>no</td>\n",
       "      <td>excellent</td>\n",
       "      <td>no</td>\n",
       "    </tr>\n",
       "    <tr>\n",
       "      <th>2</th>\n",
       "      <td>31...40</td>\n",
       "      <td>high</td>\n",
       "      <td>no</td>\n",
       "      <td>fair</td>\n",
       "      <td>yes</td>\n",
       "    </tr>\n",
       "    <tr>\n",
       "      <th>3</th>\n",
       "      <td>&gt;40</td>\n",
       "      <td>medium</td>\n",
       "      <td>no</td>\n",
       "      <td>fair</td>\n",
       "      <td>yes</td>\n",
       "    </tr>\n",
       "    <tr>\n",
       "      <th>4</th>\n",
       "      <td>&gt;40</td>\n",
       "      <td>low</td>\n",
       "      <td>yes</td>\n",
       "      <td>fair</td>\n",
       "      <td>yes</td>\n",
       "    </tr>\n",
       "  </tbody>\n",
       "</table>\n",
       "</div>"
      ],
      "text/plain": [
       "       age  income student credit_rating buys_computer\n",
       "0     <=30    high      no         fair             no\n",
       "1     <=30    high      no     excellent            no\n",
       "2  31...40    high      no          fair           yes\n",
       "3      >40  medium      no          fair           yes\n",
       "4      >40     low     yes          fair           yes"
      ]
     },
     "execution_count": 9,
     "metadata": {},
     "output_type": "execute_result"
    }
   ],
   "source": [
    "df.head()"
   ]
  },
  {
   "cell_type": "code",
   "execution_count": 10,
   "id": "a4478e6e",
   "metadata": {},
   "outputs": [],
   "source": [
    "def divide_data(data, feature):\n",
    "    # here we are working data frames.\n",
    "    \n",
    "    DATA = {}\n",
    "    \n",
    "    feat_values = list(data[feature].value_counts().index)\n",
    "    occurence = list(data[feature].value_counts())\n",
    "    \n",
    "    for val in feat_values:\n",
    "        DATA[val] = {'data' : pd.DataFrame([], columns = data.columns), 'len': 0}\n",
    "        \n",
    "    \n",
    "    for ix in range(data.shape[0]):\n",
    "        val = data[feature].iloc[ix]\n",
    "        \n",
    "        DATA[val]['data'] = DATA[val]['data']._append(data.iloc[ix])\n",
    "    \n",
    "        idx = feat_values.index(val)\n",
    "        DATA[val]['len']  = occurence[idx]\n",
    "    \n",
    "    return DATA"
   ]
  },
  {
   "cell_type": "code",
   "execution_count": 11,
   "id": "68913b46",
   "metadata": {},
   "outputs": [
    {
     "data": {
      "text/plain": [
       "{'medium': {'data':         age  income student credit_rating buys_computer\n",
       "  3       >40  medium      no          fair           yes\n",
       "  7      <=30  medium      no          fair            no\n",
       "  9       >40  medium     yes          fair           yes\n",
       "  10     <=30  medium     yes     excellent           yes\n",
       "  11  31...40  medium      no     excellent           yes\n",
       "  13      >40  medium      no     excellent            no,\n",
       "  'len': 6},\n",
       " 'high': {'data':         age income student credit_rating buys_computer\n",
       "  0      <=30   high      no         fair             no\n",
       "  1      <=30   high      no     excellent            no\n",
       "  2   31...40   high      no          fair           yes\n",
       "  12  31...40   high     yes          fair           yes,\n",
       "  'len': 4},\n",
       " 'low': {'data':        age income student credit_rating buys_computer\n",
       "  4      >40    low     yes          fair           yes\n",
       "  5      >40    low     yes     excellent            no\n",
       "  6  31...40    low     yes     excellent           yes\n",
       "  8     <=30    low     yes          fair           yes,\n",
       "  'len': 4}}"
      ]
     },
     "execution_count": 11,
     "metadata": {},
     "output_type": "execute_result"
    }
   ],
   "source": [
    "divide_data(df,'income')"
   ]
  },
  {
   "cell_type": "code",
   "execution_count": null,
   "id": "5fcc80fd",
   "metadata": {},
   "outputs": [],
   "source": []
  },
  {
   "cell_type": "markdown",
   "id": "b63a4ba2",
   "metadata": {},
   "source": [
    "### CODE : Information Gain"
   ]
  },
  {
   "cell_type": "code",
   "execution_count": null,
   "id": "80762a03",
   "metadata": {},
   "outputs": [],
   "source": []
  },
  {
   "cell_type": "code",
   "execution_count": 12,
   "id": "6d099d2d",
   "metadata": {},
   "outputs": [],
   "source": [
    "def information_gain(data, feature):\n",
    "    examples = data.shape[0]\n",
    "    \n",
    "    DATA = divide_data(data, feature)\n",
    "    \n",
    "    keys = DATA.keys()\n",
    "    \n",
    "    \n",
    "    ent_of_children = 0.0\n",
    "    \n",
    "    for key in keys:\n",
    "        ent_of_children +=  ( (DATA[key]['len']/examples) * entropy(DATA[key]['data'][output_feature]) )\n",
    "        \n",
    "    info_gain = entropy(data[output_feature]) - ent_of_children\n",
    "    return info_gain"
   ]
  },
  {
   "cell_type": "code",
   "execution_count": 13,
   "id": "a4b2e0fd",
   "metadata": {},
   "outputs": [
    {
     "data": {
      "text/plain": [
       "0.02922256565895487"
      ]
     },
     "execution_count": 13,
     "metadata": {},
     "output_type": "execute_result"
    }
   ],
   "source": [
    "information_gain(df, 'income')"
   ]
  },
  {
   "cell_type": "code",
   "execution_count": 14,
   "id": "fe76c1f8",
   "metadata": {},
   "outputs": [
    {
     "data": {
      "text/plain": [
       "0.24674981977443933"
      ]
     },
     "execution_count": 14,
     "metadata": {},
     "output_type": "execute_result"
    }
   ],
   "source": [
    "information_gain(df, 'age')"
   ]
  },
  {
   "cell_type": "code",
   "execution_count": 15,
   "id": "cc7ec047",
   "metadata": {},
   "outputs": [
    {
     "data": {
      "text/plain": [
       "0.2158781408080388"
      ]
     },
     "execution_count": 15,
     "metadata": {},
     "output_type": "execute_result"
    }
   ],
   "source": [
    "information_gain(df, 'credit_rating')"
   ]
  },
  {
   "cell_type": "code",
   "execution_count": 16,
   "id": "d7f6c7f9",
   "metadata": {},
   "outputs": [
    {
     "data": {
      "text/plain": [
       "0.15183550136234159"
      ]
     },
     "execution_count": 16,
     "metadata": {},
     "output_type": "execute_result"
    }
   ],
   "source": [
    "information_gain(df, 'student')"
   ]
  },
  {
   "cell_type": "code",
   "execution_count": null,
   "id": "048f2724",
   "metadata": {},
   "outputs": [],
   "source": []
  },
  {
   "cell_type": "markdown",
   "id": "01123d80",
   "metadata": {},
   "source": [
    "### Constructing a Decision Tree\n"
   ]
  },
  {
   "cell_type": "code",
   "execution_count": 17,
   "id": "27d9a136",
   "metadata": {},
   "outputs": [],
   "source": [
    "class DecisionTree:\n",
    "    \n",
    "    # constructor\n",
    "    def __init__(self, depth=0, max_depth=5):\n",
    "        # Creating a Node\n",
    "        self.children = {}\n",
    "        self.fkey = None\n",
    "        self.max_depth = max_depth\n",
    "        self.depth = depth\n",
    "        self.target = None\n",
    "        \n",
    "    def train(self, data):\n",
    "        features = data.columns[:-1]\n",
    "        \n",
    "        info_gains = []\n",
    "            \n",
    "        for f in features:\n",
    "            i_gain = information_gain(data, f)\n",
    "            info_gains.append(i_gain)\n",
    "            \n",
    "        # finding the best feature\n",
    "        self.fkey = features[np.argmax(info_gains)]\n",
    "        \n",
    "        #Spliting the Data\n",
    "        DATA = divide_data(data, self.fkey)\n",
    "        \n",
    "        \n",
    "        \n",
    "        # Giving a target label to the Node\n",
    "        labels = list(data[output_feature].value_counts().index)\n",
    "        freq = list(data[output_feature].value_counts().values)\n",
    "        \n",
    "        self.target = labels[np.argmax(freq)]\n",
    "        \n",
    "\n",
    "        ###### STOPPING CONDITIONS ######\n",
    "        \n",
    "        have_data = 0\n",
    "        keys = DATA.keys()\n",
    "        \n",
    "        for key in keys:\n",
    "            if DATA[key]['len'] > 0:\n",
    "                have_data +=1\n",
    "        \n",
    "        # 1. If it is pure node \n",
    "        if have_data<2:\n",
    "            print(\"\\t\"*self.depth + \"Leaf Node : \"+ self.target)\n",
    "            return \n",
    "        \n",
    "    \n",
    "        # 2. Early Stop if you have reached max depth\n",
    "        if(self.depth >= self.max_depth):\n",
    "            print(\"\\t\"*self.depth + \"Leaf Node : \"+ self.target)\n",
    "            return\n",
    "        \n",
    "        \n",
    "        print(\"\\t\"*self.depth + \"Node : \", self.fkey)\n",
    "        \n",
    "        \n",
    "        # Recursively train child Node\n",
    "        for key in keys:\n",
    "            new_data = DATA[key]['data']\n",
    "            self.children[key] = DecisionTree(depth = self.depth + 1)\n",
    "            self.children[key].train(new_data)\n",
    "            \n",
    "        return  \n",
    "    \n",
    "    \n",
    "    def predict(self, test):\n",
    "        if self.children == {}:\n",
    "            return self.target\n",
    "        print(\"\\t\"*self.depth + \"Testing Node for - \", self.fkey);\n",
    "        return self.children[test[self.fkey][0]].predict(test)"
   ]
  },
  {
   "cell_type": "markdown",
   "id": "ddf41668",
   "metadata": {},
   "source": [
    "# Model"
   ]
  },
  {
   "cell_type": "code",
   "execution_count": 18,
   "id": "b97cbf66",
   "metadata": {},
   "outputs": [],
   "source": [
    "model = DecisionTree()"
   ]
  },
  {
   "cell_type": "code",
   "execution_count": 19,
   "id": "2e864622",
   "metadata": {},
   "outputs": [
    {
     "name": "stdout",
     "output_type": "stream",
     "text": [
      "Node :  age\n",
      "\tNode :  student\n",
      "\t\tLeaf Node : no\n",
      "\t\tLeaf Node : yes\n",
      "\tNode :  credit_rating\n",
      "\t\tLeaf Node : yes\n",
      "\t\tLeaf Node : no\n",
      "\tLeaf Node : yes\n"
     ]
    }
   ],
   "source": [
    "model.train(df)"
   ]
  },
  {
   "cell_type": "code",
   "execution_count": 20,
   "id": "816a2a32",
   "metadata": {},
   "outputs": [
    {
     "data": {
      "text/plain": [
       "<__main__.DecisionTree at 0x13f6d3d30>"
      ]
     },
     "execution_count": 20,
     "metadata": {},
     "output_type": "execute_result"
    }
   ],
   "source": [
    "model"
   ]
  },
  {
   "cell_type": "code",
   "execution_count": 21,
   "id": "aac46af2",
   "metadata": {},
   "outputs": [
    {
     "data": {
      "text/plain": [
       "'yes'"
      ]
     },
     "execution_count": 21,
     "metadata": {},
     "output_type": "execute_result"
    }
   ],
   "source": [
    "model.target"
   ]
  },
  {
   "cell_type": "code",
   "execution_count": 22,
   "id": "b24dfda6",
   "metadata": {},
   "outputs": [
    {
     "data": {
      "text/plain": [
       "'age'"
      ]
     },
     "execution_count": 22,
     "metadata": {},
     "output_type": "execute_result"
    }
   ],
   "source": [
    "model.fkey"
   ]
  },
  {
   "cell_type": "code",
   "execution_count": 23,
   "id": "0d77bf3e",
   "metadata": {},
   "outputs": [
    {
     "data": {
      "text/plain": [
       "{'<=30': <__main__.DecisionTree at 0x1076dd780>,\n",
       " '>40': <__main__.DecisionTree at 0x13f6d1030>,\n",
       " '31...40': <__main__.DecisionTree at 0x13f6d0250>}"
      ]
     },
     "execution_count": 23,
     "metadata": {},
     "output_type": "execute_result"
    }
   ],
   "source": [
    "model.children"
   ]
  },
  {
   "cell_type": "code",
   "execution_count": 24,
   "id": "f322409e",
   "metadata": {},
   "outputs": [
    {
     "data": {
      "text/plain": [
       "<__main__.DecisionTree at 0x13f6d1030>"
      ]
     },
     "execution_count": 24,
     "metadata": {},
     "output_type": "execute_result"
    }
   ],
   "source": [
    "model.children['>40']"
   ]
  },
  {
   "cell_type": "code",
   "execution_count": 25,
   "id": "967c084b",
   "metadata": {},
   "outputs": [
    {
     "data": {
      "text/plain": [
       "'credit_rating'"
      ]
     },
     "execution_count": 25,
     "metadata": {},
     "output_type": "execute_result"
    }
   ],
   "source": [
    "model.children['>40'].fkey"
   ]
  },
  {
   "cell_type": "code",
   "execution_count": 26,
   "id": "1b1b6a37",
   "metadata": {},
   "outputs": [
    {
     "data": {
      "text/plain": [
       "{'fair': <__main__.DecisionTree at 0x13f6d22f0>,\n",
       " 'excellent': <__main__.DecisionTree at 0x13f6d1300>}"
      ]
     },
     "execution_count": 26,
     "metadata": {},
     "output_type": "execute_result"
    }
   ],
   "source": [
    "model.children['>40'].children"
   ]
  },
  {
   "cell_type": "code",
   "execution_count": 27,
   "id": "6cae8ba8",
   "metadata": {},
   "outputs": [
    {
     "data": {
      "text/plain": [
       "{}"
      ]
     },
     "execution_count": 27,
     "metadata": {},
     "output_type": "execute_result"
    }
   ],
   "source": [
    "model.children['>40'].children['fair'].children"
   ]
  },
  {
   "cell_type": "code",
   "execution_count": 28,
   "id": "4a7937bd",
   "metadata": {},
   "outputs": [
    {
     "data": {
      "text/plain": [
       "'yes'"
      ]
     },
     "execution_count": 28,
     "metadata": {},
     "output_type": "execute_result"
    }
   ],
   "source": [
    "model.children['31...40'].target"
   ]
  },
  {
   "cell_type": "code",
   "execution_count": 29,
   "id": "f89676f6",
   "metadata": {},
   "outputs": [
    {
     "data": {
      "text/plain": [
       "{}"
      ]
     },
     "execution_count": 29,
     "metadata": {},
     "output_type": "execute_result"
    }
   ],
   "source": [
    "model.children['31...40'].children"
   ]
  },
  {
   "cell_type": "markdown",
   "id": "39f6c4b7",
   "metadata": {},
   "source": [
    "# Prediction "
   ]
  },
  {
   "cell_type": "code",
   "execution_count": 30,
   "id": "39933506",
   "metadata": {},
   "outputs": [],
   "source": [
    "test_data=[]\n",
    "x_test = pd.DataFrame([['<=30', 'low', 'no', 'fair']], columns=list(df.columns.values[:-1]))"
   ]
  },
  {
   "cell_type": "code",
   "execution_count": 31,
   "id": "afbc0099",
   "metadata": {},
   "outputs": [
    {
     "data": {
      "text/html": [
       "<div>\n",
       "<style scoped>\n",
       "    .dataframe tbody tr th:only-of-type {\n",
       "        vertical-align: middle;\n",
       "    }\n",
       "\n",
       "    .dataframe tbody tr th {\n",
       "        vertical-align: top;\n",
       "    }\n",
       "\n",
       "    .dataframe thead th {\n",
       "        text-align: right;\n",
       "    }\n",
       "</style>\n",
       "<table border=\"1\" class=\"dataframe\">\n",
       "  <thead>\n",
       "    <tr style=\"text-align: right;\">\n",
       "      <th></th>\n",
       "      <th>age</th>\n",
       "      <th>income</th>\n",
       "      <th>student</th>\n",
       "      <th>credit_rating</th>\n",
       "    </tr>\n",
       "  </thead>\n",
       "  <tbody>\n",
       "    <tr>\n",
       "      <th>0</th>\n",
       "      <td>&lt;=30</td>\n",
       "      <td>low</td>\n",
       "      <td>no</td>\n",
       "      <td>fair</td>\n",
       "    </tr>\n",
       "  </tbody>\n",
       "</table>\n",
       "</div>"
      ],
      "text/plain": [
       "    age income student credit_rating\n",
       "0  <=30    low      no          fair"
      ]
     },
     "execution_count": 31,
     "metadata": {},
     "output_type": "execute_result"
    }
   ],
   "source": [
    "x_test"
   ]
  },
  {
   "cell_type": "code",
   "execution_count": 32,
   "id": "eb24cda9",
   "metadata": {
    "scrolled": true
   },
   "outputs": [
    {
     "name": "stdout",
     "output_type": "stream",
     "text": [
      "Testing Node for -  age\n",
      "\tTesting Node for -  student\n"
     ]
    },
    {
     "data": {
      "text/plain": [
       "'no'"
      ]
     },
     "execution_count": 32,
     "metadata": {},
     "output_type": "execute_result"
    }
   ],
   "source": [
    "model.predict(x_test)"
   ]
  },
  {
   "cell_type": "code",
   "execution_count": null,
   "id": "ea650ab0",
   "metadata": {},
   "outputs": [],
   "source": []
  }
 ],
 "metadata": {
  "kernelspec": {
   "display_name": "Python 3",
   "language": "python",
   "name": "python3"
  },
  "language_info": {
   "codemirror_mode": {
    "name": "ipython",
    "version": 3
   },
   "file_extension": ".py",
   "mimetype": "text/x-python",
   "name": "python",
   "nbconvert_exporter": "python",
   "pygments_lexer": "ipython3",
   "version": "3.10.7"
  }
 },
 "nbformat": 4,
 "nbformat_minor": 5
}
