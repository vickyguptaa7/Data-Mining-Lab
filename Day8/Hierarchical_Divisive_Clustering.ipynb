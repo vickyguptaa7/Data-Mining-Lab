{
 "cells": [
  {
   "cell_type": "code",
   "execution_count": 27,
   "metadata": {},
   "outputs": [],
   "source": [
    "import numpy as np\n",
    "import pandas as pd\n",
    "import matplotlib.pyplot as plt\n",
    "import random "
   ]
  },
  {
   "cell_type": "code",
   "execution_count": 28,
   "metadata": {},
   "outputs": [],
   "source": [
    "data_points=[]\n",
    "max_value=5\n",
    "data_length=10\n",
    "for i in range(data_length):\n",
    "    data_points.append([random.random()*max_value,random.random()*max_value])"
   ]
  },
  {
   "cell_type": "code",
   "execution_count": 29,
   "metadata": {},
   "outputs": [
    {
     "name": "stdout",
     "output_type": "stream",
     "text": [
      "[[2.3604001190640234, 0.9201420044102127], [0.44092681950186285, 4.003237523195377], [0.6397264480778048, 2.4832714776681546], [2.261835947921221, 3.956084739936828], [2.6320146836240133, 2.9102151396254525], [1.962219451448786, 3.800901402152567], [2.7857202083449915, 1.8799088456087654], [4.103717912050959, 2.0099614537975525], [4.405228179493667, 0.25353245169189187], [3.3569114441132726, 1.1086582117561339]]\n"
     ]
    }
   ],
   "source": [
    "print(data_points)"
   ]
  },
  {
   "cell_type": "code",
   "execution_count": 30,
   "metadata": {},
   "outputs": [
    {
     "name": "stdout",
     "output_type": "stream",
     "text": [
      "{0: [[2.3604001190640234, 0.9201420044102127], [0.44092681950186285, 4.003237523195377], [0.6397264480778048, 2.4832714776681546], [2.261835947921221, 3.956084739936828], [2.6320146836240133, 2.9102151396254525], [1.962219451448786, 3.800901402152567], [2.7857202083449915, 1.8799088456087654], [4.103717912050959, 2.0099614537975525], [4.405228179493667, 0.25353245169189187], [3.3569114441132726, 1.1086582117561339]]}\n"
     ]
    }
   ],
   "source": [
    "clusters={0:[]}\n",
    "# { cluster_id : [data_points] }\n",
    "\n",
    "for i in range(len(data_points)):\n",
    "    clusters[0].append(data_points[i])\n",
    "\n",
    "print(clusters)\n"
   ]
  },
  {
   "cell_type": "code",
   "execution_count": 31,
   "metadata": {},
   "outputs": [],
   "source": [
    "def euclidean_distance(a,b):\n",
    "    dist=0\n",
    "    for i in range(len(a)):\n",
    "        dist+=(a[i]-b[i])**2\n",
    "    return dist**0.5\n",
    "\n",
    "# give the centroids point of multiple clusters\n",
    "def combine_points(pointarr):\n",
    "    x=0\n",
    "    y=0\n",
    "    for i in range(len(pointarr)):\n",
    "        x+=pointarr[i][0]\n",
    "        y+=pointarr[i][1]\n",
    "    return [x/len(pointarr),y/len(pointarr)]\n",
    "\n",
    "# find the minimum distance between two clusters\n",
    "def find_max_dist(clusters):\n",
    "    max_dist=0\n",
    "    for idx in clusters:\n",
    "        pointx=combine_points(clusters[idx])\n",
    "        for indx in range(len(clusters[idx])):\n",
    "            pointy=clusters[idx][indx]\n",
    "            dist=euclidean_distance(pointx,pointy)\n",
    "            max_dist=max(max_dist,dist)\n",
    "    return max_dist\n",
    "\n",
    "# find the clusters that have minimum distance between them and make connections or edges between them\n",
    "def find_farthest_point_in_cluster(cluster,max_dist):\n",
    "    pointx=combine_points(cluster)\n",
    "    points=[]\n",
    "    for indx in range(len(cluster)):\n",
    "        pointy=cluster[indx]\n",
    "        dist=euclidean_distance(pointx,pointy)\n",
    "        if dist==max_dist:\n",
    "            points.append(pointy)\n",
    "\n",
    "    return points\n",
    "\n",
    "# merge the clusters\n",
    "def seperate_cluster(clusters,farthest_points):\n",
    "    id_count=len(clusters)\n",
    "    new_clusters={}\n",
    "    for fidx in farthest_points:\n",
    "        for indx in range(len(farthest_points[fidx])):\n",
    "            for cid in clusters:\n",
    "                if farthest_points[fidx][indx] in clusters[cid]:\n",
    "                    new_clusters.update({id_count:[farthest_points[fidx][indx]]})\n",
    "                    id_count+=1\n",
    "                    clusters[cid].remove(farthest_points[fidx][indx])\n",
    "    # print(clusters)\n",
    "    for cid in clusters:\n",
    "        if len(clusters[cid])==0:\n",
    "            continue\n",
    "        new_clusters.update({cid:clusters[cid]})\n",
    "    return new_clusters\n",
    "    "
   ]
  },
  {
   "cell_type": "code",
   "execution_count": 32,
   "metadata": {},
   "outputs": [],
   "source": [
    "def update_cluster(clusters):\n",
    "    new_clusters={}\n",
    "\n",
    "    # {cluster_id: fartherst_points}\n",
    "    fartherst_point={} \n",
    "    max_dist=find_max_dist(clusters)\n",
    "    for idx in clusters:\n",
    "        temp=find_farthest_point_in_cluster(clusters[idx],max_dist)\n",
    "        if len(temp)==0:continue\n",
    "        fartherst_point.update({idx:temp})\n",
    "\n",
    "    new_clusters=seperate_cluster(clusters,fartherst_point)\n",
    "    return new_clusters\n",
    "\n"
   ]
  },
  {
   "cell_type": "code",
   "execution_count": 33,
   "metadata": {},
   "outputs": [],
   "source": [
    "def print_clusters(clusters):\n",
    "    print(\"clusters len : \",len(clusters))\n",
    "    for idx in clusters:\n",
    "        print(idx,\":\",clusters[idx])\n",
    "    print(\"\\n\\n\")"
   ]
  },
  {
   "cell_type": "code",
   "execution_count": 34,
   "metadata": {},
   "outputs": [],
   "source": [
    "def divisive_clustering(clusters):\n",
    "    while len(clusters)<data_length:\n",
    "        print_clusters(clusters)\n",
    "        clusters=update_cluster(clusters)\n",
    "    print_clusters(clusters)\n"
   ]
  },
  {
   "cell_type": "code",
   "execution_count": 35,
   "metadata": {},
   "outputs": [
    {
     "name": "stdout",
     "output_type": "stream",
     "text": [
      "clusters len :  1\n",
      "0 : [[2.3604001190640234, 0.9201420044102127], [0.44092681950186285, 4.003237523195377], [0.6397264480778048, 2.4832714776681546], [2.261835947921221, 3.956084739936828], [2.6320146836240133, 2.9102151396254525], [1.962219451448786, 3.800901402152567], [2.7857202083449915, 1.8799088456087654], [4.103717912050959, 2.0099614537975525], [4.405228179493667, 0.25353245169189187], [3.3569114441132726, 1.1086582117561339]]\n",
      "\n",
      "\n",
      "\n",
      "clusters len :  2\n",
      "1 : [[4.405228179493667, 0.25353245169189187]]\n",
      "0 : [[2.3604001190640234, 0.9201420044102127], [0.44092681950186285, 4.003237523195377], [0.6397264480778048, 2.4832714776681546], [2.261835947921221, 3.956084739936828], [2.6320146836240133, 2.9102151396254525], [1.962219451448786, 3.800901402152567], [2.7857202083449915, 1.8799088456087654], [4.103717912050959, 2.0099614537975525], [3.3569114441132726, 1.1086582117561339]]\n",
      "\n",
      "\n",
      "\n",
      "clusters len :  3\n",
      "2 : [[0.44092681950186285, 4.003237523195377]]\n",
      "1 : [[4.405228179493667, 0.25353245169189187]]\n",
      "0 : [[2.3604001190640234, 0.9201420044102127], [0.6397264480778048, 2.4832714776681546], [2.261835947921221, 3.956084739936828], [2.6320146836240133, 2.9102151396254525], [1.962219451448786, 3.800901402152567], [2.7857202083449915, 1.8799088456087654], [4.103717912050959, 2.0099614537975525], [3.3569114441132726, 1.1086582117561339]]\n",
      "\n",
      "\n",
      "\n",
      "clusters len :  4\n",
      "3 : [[0.6397264480778048, 2.4832714776681546]]\n",
      "2 : [[0.44092681950186285, 4.003237523195377]]\n",
      "1 : [[4.405228179493667, 0.25353245169189187]]\n",
      "0 : [[2.3604001190640234, 0.9201420044102127], [2.261835947921221, 3.956084739936828], [2.6320146836240133, 2.9102151396254525], [1.962219451448786, 3.800901402152567], [2.7857202083449915, 1.8799088456087654], [4.103717912050959, 2.0099614537975525], [3.3569114441132726, 1.1086582117561339]]\n",
      "\n",
      "\n",
      "\n",
      "clusters len :  5\n",
      "4 : [[2.261835947921221, 3.956084739936828]]\n",
      "3 : [[0.6397264480778048, 2.4832714776681546]]\n",
      "2 : [[0.44092681950186285, 4.003237523195377]]\n",
      "1 : [[4.405228179493667, 0.25353245169189187]]\n",
      "0 : [[2.3604001190640234, 0.9201420044102127], [2.6320146836240133, 2.9102151396254525], [1.962219451448786, 3.800901402152567], [2.7857202083449915, 1.8799088456087654], [4.103717912050959, 2.0099614537975525], [3.3569114441132726, 1.1086582117561339]]\n",
      "\n",
      "\n",
      "\n",
      "clusters len :  6\n",
      "5 : [[1.962219451448786, 3.800901402152567]]\n",
      "4 : [[2.261835947921221, 3.956084739936828]]\n",
      "3 : [[0.6397264480778048, 2.4832714776681546]]\n",
      "2 : [[0.44092681950186285, 4.003237523195377]]\n",
      "1 : [[4.405228179493667, 0.25353245169189187]]\n",
      "0 : [[2.3604001190640234, 0.9201420044102127], [2.6320146836240133, 2.9102151396254525], [2.7857202083449915, 1.8799088456087654], [4.103717912050959, 2.0099614537975525], [3.3569114441132726, 1.1086582117561339]]\n",
      "\n",
      "\n",
      "\n",
      "clusters len :  7\n",
      "6 : [[2.6320146836240133, 2.9102151396254525]]\n",
      "5 : [[1.962219451448786, 3.800901402152567]]\n",
      "4 : [[2.261835947921221, 3.956084739936828]]\n",
      "3 : [[0.6397264480778048, 2.4832714776681546]]\n",
      "2 : [[0.44092681950186285, 4.003237523195377]]\n",
      "1 : [[4.405228179493667, 0.25353245169189187]]\n",
      "0 : [[2.3604001190640234, 0.9201420044102127], [2.7857202083449915, 1.8799088456087654], [4.103717912050959, 2.0099614537975525], [3.3569114441132726, 1.1086582117561339]]\n",
      "\n",
      "\n",
      "\n",
      "clusters len :  8\n",
      "7 : [[4.103717912050959, 2.0099614537975525]]\n",
      "6 : [[2.6320146836240133, 2.9102151396254525]]\n",
      "5 : [[1.962219451448786, 3.800901402152567]]\n",
      "4 : [[2.261835947921221, 3.956084739936828]]\n",
      "3 : [[0.6397264480778048, 2.4832714776681546]]\n",
      "2 : [[0.44092681950186285, 4.003237523195377]]\n",
      "1 : [[4.405228179493667, 0.25353245169189187]]\n",
      "0 : [[2.3604001190640234, 0.9201420044102127], [2.7857202083449915, 1.8799088456087654], [3.3569114441132726, 1.1086582117561339]]\n",
      "\n",
      "\n",
      "\n",
      "clusters len :  9\n",
      "8 : [[2.3604001190640234, 0.9201420044102127]]\n",
      "7 : [[4.103717912050959, 2.0099614537975525]]\n",
      "6 : [[2.6320146836240133, 2.9102151396254525]]\n",
      "5 : [[1.962219451448786, 3.800901402152567]]\n",
      "4 : [[2.261835947921221, 3.956084739936828]]\n",
      "3 : [[0.6397264480778048, 2.4832714776681546]]\n",
      "2 : [[0.44092681950186285, 4.003237523195377]]\n",
      "1 : [[4.405228179493667, 0.25353245169189187]]\n",
      "0 : [[2.7857202083449915, 1.8799088456087654], [3.3569114441132726, 1.1086582117561339]]\n",
      "\n",
      "\n",
      "\n",
      "clusters len :  10\n",
      "9 : [[2.7857202083449915, 1.8799088456087654]]\n",
      "10 : [[3.3569114441132726, 1.1086582117561339]]\n",
      "8 : [[2.3604001190640234, 0.9201420044102127]]\n",
      "7 : [[4.103717912050959, 2.0099614537975525]]\n",
      "6 : [[2.6320146836240133, 2.9102151396254525]]\n",
      "5 : [[1.962219451448786, 3.800901402152567]]\n",
      "4 : [[2.261835947921221, 3.956084739936828]]\n",
      "3 : [[0.6397264480778048, 2.4832714776681546]]\n",
      "2 : [[0.44092681950186285, 4.003237523195377]]\n",
      "1 : [[4.405228179493667, 0.25353245169189187]]\n",
      "\n",
      "\n",
      "\n"
     ]
    }
   ],
   "source": [
    "divisive_clustering(clusters)"
   ]
  }
 ],
 "metadata": {
  "kernelspec": {
   "display_name": "Python 3",
   "language": "python",
   "name": "python3"
  },
  "language_info": {
   "codemirror_mode": {
    "name": "ipython",
    "version": 3
   },
   "file_extension": ".py",
   "mimetype": "text/x-python",
   "name": "python",
   "nbconvert_exporter": "python",
   "pygments_lexer": "ipython3",
   "version": "3.10.7"
  }
 },
 "nbformat": 4,
 "nbformat_minor": 2
}
