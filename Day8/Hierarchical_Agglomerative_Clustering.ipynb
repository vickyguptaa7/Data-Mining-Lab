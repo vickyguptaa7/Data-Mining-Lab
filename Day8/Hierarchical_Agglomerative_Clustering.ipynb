{
 "cells": [
  {
   "cell_type": "code",
   "execution_count": 10,
   "metadata": {},
   "outputs": [],
   "source": [
    "import numpy as np\n",
    "import pandas as pd\n",
    "import matplotlib.pyplot as plt\n",
    "import random "
   ]
  },
  {
   "cell_type": "code",
   "execution_count": 11,
   "metadata": {},
   "outputs": [],
   "source": [
    "data_points=[]\n",
    "max_value=10\n",
    "data_length=5\n",
    "for i in range(data_length):\n",
    "    data_points.append([random.random()*max_value,random.random()*max_value])"
   ]
  },
  {
   "cell_type": "code",
   "execution_count": 12,
   "metadata": {},
   "outputs": [
    {
     "name": "stdout",
     "output_type": "stream",
     "text": [
      "[[5.13738295872166, 0.7545350168053122], [9.068038344630732, 9.722346604197664], [7.709512049005227, 2.9860811364420647], [3.7401273184257757, 8.838396957124399], [7.620536536428607, 4.113244852638961]]\n"
     ]
    }
   ],
   "source": [
    "print(data_points)"
   ]
  },
  {
   "cell_type": "code",
   "execution_count": 13,
   "metadata": {},
   "outputs": [
    {
     "name": "stdout",
     "output_type": "stream",
     "text": [
      "{0: [[5.13738295872166, 0.7545350168053122]], 1: [[9.068038344630732, 9.722346604197664]], 2: [[7.709512049005227, 2.9860811364420647]], 3: [[3.7401273184257757, 8.838396957124399]], 4: [[7.620536536428607, 4.113244852638961]]}\n"
     ]
    }
   ],
   "source": [
    "clusters={}\n",
    "# { cluster_id : [data_points] }\n",
    "\n",
    "for i in range(len(data_points)):\n",
    "    clusters.update({i:[data_points[i]]})\n",
    "\n",
    "print(clusters)\n"
   ]
  },
  {
   "cell_type": "code",
   "execution_count": 14,
   "metadata": {},
   "outputs": [],
   "source": [
    "def euclidean_distance(a,b):\n",
    "    dist=0\n",
    "    for i in range(len(a)):\n",
    "        dist+=(a[i]-b[i])**2\n",
    "    return dist**0.5\n",
    "\n",
    "# give the centroids point of multiple clusters\n",
    "def combine_points(pointarr):\n",
    "    x=0\n",
    "    y=0\n",
    "    for i in range(len(pointarr)):\n",
    "        x+=pointarr[i][0]\n",
    "        y+=pointarr[i][1]\n",
    "    return [x/len(pointarr),y/len(pointarr)]\n",
    "\n",
    "# find the minimum distance between two clusters\n",
    "def find_min_dist(clusters):\n",
    "    min_dist=9999\n",
    "    for idx in range(len(clusters)):\n",
    "        pointx=combine_points(clusters[idx])\n",
    "        for idy in range(len(clusters)):\n",
    "            if idx>=idy:continue\n",
    "            pointy=combine_points(clusters[idy])\n",
    "            dist=euclidean_distance(pointx,pointy)\n",
    "            min_dist=min(min_dist,dist)\n",
    "    return min_dist\n",
    "\n",
    "# find the clusters that have minimum distance between them and make connections or edges between them\n",
    "def find_connections(clusters,min_dist):\n",
    "    adj_list=[[] for i in range(len(clusters))]\n",
    "    for idx in range(len(clusters)):\n",
    "        pointx=combine_points(clusters[idx])\n",
    "        for idy in range(len(clusters)):\n",
    "            if idx>=idy:continue\n",
    "            pointy=combine_points(clusters[idy])\n",
    "            dist=euclidean_distance(pointx,pointy)\n",
    "            if dist==min_dist:\n",
    "                adj_list[idx].append(idy)\n",
    "                adj_list[idy].append(idx)\n",
    "\n",
    "    return adj_list\n",
    "\n",
    "# merge the clusters\n",
    "def bfs_merge_cluster(src,clusters,adj_list,visited):\n",
    "    queue=[src]\n",
    "    new_cluster=[]\n",
    "\n",
    "    while queue:\n",
    "        idx=queue.pop(0)\n",
    "        if visited[idx]:continue\n",
    "\n",
    "        visited[idx]=True\n",
    "        for indx in range(len(clusters[idx])):\n",
    "            new_cluster.append(clusters[idx][indx])\n",
    "            \n",
    "        for idy in adj_list[idx]:\n",
    "            if visited[idy]:continue\n",
    "            queue.append(idy)\n",
    "            \n",
    "    return new_cluster"
   ]
  },
  {
   "cell_type": "code",
   "execution_count": 15,
   "metadata": {},
   "outputs": [],
   "source": [
    "def update_cluster(clusters):\n",
    "    new_clusters={}\n",
    "\n",
    "    adj_list=find_connections(clusters,find_min_dist(clusters))\n",
    "    visited=[False for i in range(len(clusters))]\n",
    "    id_count=0;\n",
    "    for idx in range(len(clusters)):\n",
    "        \n",
    "        if visited[idx]:continue\n",
    "\n",
    "        new_cluster=bfs_merge_cluster(idx,clusters,adj_list,visited)\n",
    "        \n",
    "        new_clusters.update({id_count:new_cluster})\n",
    "        id_count+=1\n",
    "\n",
    "    return new_clusters\n",
    "\n"
   ]
  },
  {
   "cell_type": "code",
   "execution_count": 16,
   "metadata": {},
   "outputs": [],
   "source": [
    "def print_clusters(clusters):\n",
    "    print(\"clusters len : \",len(clusters))\n",
    "    for idx in clusters:\n",
    "        print(idx,\":\",clusters[idx])\n",
    "    print(\"\\n\\n\")"
   ]
  },
  {
   "cell_type": "code",
   "execution_count": 17,
   "metadata": {},
   "outputs": [],
   "source": [
    "def agglomerative_clustering(clusters):\n",
    "    while len(clusters)>1:\n",
    "        print_clusters(clusters)\n",
    "        clusters=update_cluster(clusters)\n",
    "\n",
    "    print_clusters(clusters)"
   ]
  },
  {
   "cell_type": "code",
   "execution_count": 18,
   "metadata": {},
   "outputs": [
    {
     "name": "stdout",
     "output_type": "stream",
     "text": [
      "clusters len :  5\n",
      "0 : [[5.13738295872166, 0.7545350168053122]]\n",
      "1 : [[9.068038344630732, 9.722346604197664]]\n",
      "2 : [[7.709512049005227, 2.9860811364420647]]\n",
      "3 : [[3.7401273184257757, 8.838396957124399]]\n",
      "4 : [[7.620536536428607, 4.113244852638961]]\n",
      "\n",
      "\n",
      "\n",
      "clusters len :  4\n",
      "0 : [[5.13738295872166, 0.7545350168053122]]\n",
      "1 : [[9.068038344630732, 9.722346604197664]]\n",
      "2 : [[7.709512049005227, 2.9860811364420647], [7.620536536428607, 4.113244852638961]]\n",
      "3 : [[3.7401273184257757, 8.838396957124399]]\n",
      "\n",
      "\n",
      "\n",
      "clusters len :  3\n",
      "0 : [[5.13738295872166, 0.7545350168053122], [7.709512049005227, 2.9860811364420647], [7.620536536428607, 4.113244852638961]]\n",
      "1 : [[9.068038344630732, 9.722346604197664]]\n",
      "2 : [[3.7401273184257757, 8.838396957124399]]\n",
      "\n",
      "\n",
      "\n",
      "clusters len :  2\n",
      "0 : [[5.13738295872166, 0.7545350168053122], [7.709512049005227, 2.9860811364420647], [7.620536536428607, 4.113244852638961]]\n",
      "1 : [[9.068038344630732, 9.722346604197664], [3.7401273184257757, 8.838396957124399]]\n",
      "\n",
      "\n",
      "\n",
      "clusters len :  1\n",
      "0 : [[5.13738295872166, 0.7545350168053122], [7.709512049005227, 2.9860811364420647], [7.620536536428607, 4.113244852638961], [9.068038344630732, 9.722346604197664], [3.7401273184257757, 8.838396957124399]]\n",
      "\n",
      "\n",
      "\n"
     ]
    }
   ],
   "source": [
    "agglomerative_clustering(clusters)"
   ]
  }
 ],
 "metadata": {
  "kernelspec": {
   "display_name": "Python 3",
   "language": "python",
   "name": "python3"
  },
  "language_info": {
   "codemirror_mode": {
    "name": "ipython",
    "version": 3
   },
   "file_extension": ".py",
   "mimetype": "text/x-python",
   "name": "python",
   "nbconvert_exporter": "python",
   "pygments_lexer": "ipython3",
   "version": "3.10.7"
  }
 },
 "nbformat": 4,
 "nbformat_minor": 2
}
