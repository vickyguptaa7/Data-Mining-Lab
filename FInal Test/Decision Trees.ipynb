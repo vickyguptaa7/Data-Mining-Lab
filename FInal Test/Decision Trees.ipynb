{
 "cells": [
  {
   "cell_type": "markdown",
   "id": "7f786299",
   "metadata": {},
   "source": [
    "#### CODE : Entropy "
   ]
  },
  {
   "cell_type": "code",
   "execution_count": 151,
   "id": "1dc24a72",
   "metadata": {},
   "outputs": [],
   "source": [
    "import numpy as np"
   ]
  },
  {
   "cell_type": "code",
   "execution_count": 152,
   "id": "224d00cf",
   "metadata": {},
   "outputs": [],
   "source": [
    "def entropy(var):\n",
    "    N = var.shape[0]\n",
    "    values, counts = np.unique(var, return_counts=True )\n",
    "    \n",
    "    ent = 0.0\n",
    "    \n",
    "    for i in counts:\n",
    "        p = i/N\n",
    "        ent += (p * np.log2(p))\n",
    "        \n",
    "    return -ent"
   ]
  },
  {
   "cell_type": "code",
   "execution_count": 153,
   "id": "635e0e79",
   "metadata": {},
   "outputs": [],
   "source": [
    "Y = np.array([1,0,0,1,0,1,0,1])"
   ]
  },
  {
   "cell_type": "code",
   "execution_count": 154,
   "id": "28867b1b",
   "metadata": {},
   "outputs": [],
   "source": [
    "X = np.array([1,1,1,1,1,1,1])"
   ]
  },
  {
   "cell_type": "code",
   "execution_count": 155,
   "id": "082b5ea3",
   "metadata": {},
   "outputs": [
    {
     "data": {
      "text/plain": [
       "1.0"
      ]
     },
     "execution_count": 155,
     "metadata": {},
     "output_type": "execute_result"
    }
   ],
   "source": [
    "entropy(Y)"
   ]
  },
  {
   "cell_type": "code",
   "execution_count": 156,
   "id": "45553195",
   "metadata": {},
   "outputs": [
    {
     "data": {
      "text/plain": [
       "-0.0"
      ]
     },
     "execution_count": 156,
     "metadata": {},
     "output_type": "execute_result"
    }
   ],
   "source": [
    "entropy(X)"
   ]
  },
  {
   "cell_type": "code",
   "execution_count": null,
   "id": "c182c047",
   "metadata": {},
   "outputs": [],
   "source": []
  },
  {
   "cell_type": "markdown",
   "id": "a46840bc",
   "metadata": {},
   "source": [
    "### CODE : Split Data"
   ]
  },
  {
   "cell_type": "code",
   "execution_count": 157,
   "id": "d99f49fb",
   "metadata": {},
   "outputs": [],
   "source": [
    "import pandas as pd"
   ]
  },
  {
   "cell_type": "code",
   "execution_count": 158,
   "id": "f4c23622",
   "metadata": {},
   "outputs": [],
   "source": [
    "df = pd.read_csv('file.csv')\n",
    "output_feature='job_satisfaction'"
   ]
  },
  {
   "cell_type": "code",
   "execution_count": 159,
   "id": "54c8abba",
   "metadata": {},
   "outputs": [
    {
     "data": {
      "text/html": [
       "<div>\n",
       "<style scoped>\n",
       "    .dataframe tbody tr th:only-of-type {\n",
       "        vertical-align: middle;\n",
       "    }\n",
       "\n",
       "    .dataframe tbody tr th {\n",
       "        vertical-align: top;\n",
       "    }\n",
       "\n",
       "    .dataframe thead th {\n",
       "        text-align: right;\n",
       "    }\n",
       "</style>\n",
       "<table border=\"1\" class=\"dataframe\">\n",
       "  <thead>\n",
       "    <tr style=\"text-align: right;\">\n",
       "      <th></th>\n",
       "      <th>emp_id</th>\n",
       "      <th>department</th>\n",
       "      <th>job_role</th>\n",
       "      <th>over_time</th>\n",
       "      <th>performance</th>\n",
       "      <th>attrition</th>\n",
       "      <th>job_satisfaction</th>\n",
       "    </tr>\n",
       "  </thead>\n",
       "  <tbody>\n",
       "    <tr>\n",
       "      <th>0</th>\n",
       "      <td>1</td>\n",
       "      <td>hr</td>\n",
       "      <td>hr</td>\n",
       "      <td>yes</td>\n",
       "      <td>excellent</td>\n",
       "      <td>yes</td>\n",
       "      <td>very_satisfied</td>\n",
       "    </tr>\n",
       "    <tr>\n",
       "      <th>1</th>\n",
       "      <td>2</td>\n",
       "      <td>marketing</td>\n",
       "      <td>marketing</td>\n",
       "      <td>yes</td>\n",
       "      <td>excellent</td>\n",
       "      <td>no</td>\n",
       "      <td>very_satisfied</td>\n",
       "    </tr>\n",
       "    <tr>\n",
       "      <th>2</th>\n",
       "      <td>3</td>\n",
       "      <td>finance</td>\n",
       "      <td>finance</td>\n",
       "      <td>no</td>\n",
       "      <td>good</td>\n",
       "      <td>no</td>\n",
       "      <td>satisfied</td>\n",
       "    </tr>\n",
       "    <tr>\n",
       "      <th>3</th>\n",
       "      <td>4</td>\n",
       "      <td>it</td>\n",
       "      <td>operation</td>\n",
       "      <td>yes</td>\n",
       "      <td>bad</td>\n",
       "      <td>yes</td>\n",
       "      <td>dissatisfied</td>\n",
       "    </tr>\n",
       "    <tr>\n",
       "      <th>4</th>\n",
       "      <td>5</td>\n",
       "      <td>hr</td>\n",
       "      <td>hr</td>\n",
       "      <td>no</td>\n",
       "      <td>excellent</td>\n",
       "      <td>yes</td>\n",
       "      <td>neutral</td>\n",
       "    </tr>\n",
       "  </tbody>\n",
       "</table>\n",
       "</div>"
      ],
      "text/plain": [
       "   emp_id department   job_role over_time performance attrition  \\\n",
       "0       1         hr         hr       yes   excellent       yes   \n",
       "1       2  marketing  marketing       yes   excellent        no   \n",
       "2       3    finance    finance        no        good        no   \n",
       "3       4         it  operation       yes         bad       yes   \n",
       "4       5         hr         hr        no   excellent       yes   \n",
       "\n",
       "  job_satisfaction  \n",
       "0   very_satisfied  \n",
       "1   very_satisfied  \n",
       "2        satisfied  \n",
       "3     dissatisfied  \n",
       "4          neutral  "
      ]
     },
     "execution_count": 159,
     "metadata": {},
     "output_type": "execute_result"
    }
   ],
   "source": [
    "df.head()"
   ]
  },
  {
   "cell_type": "code",
   "execution_count": 160,
   "metadata": {},
   "outputs": [
    {
     "name": "stdout",
     "output_type": "stream",
     "text": [
      "   department   job_role over_time performance attrition job_satisfaction\n",
      "0          hr         hr       yes   excellent       yes   very_satisfied\n",
      "1   marketing  marketing       yes   excellent        no   very_satisfied\n",
      "2     finance    finance        no        good        no        satisfied\n",
      "3          it  operation       yes         bad       yes     dissatisfied\n",
      "4          hr         hr        no   excellent       yes          neutral\n",
      "5     finance    finance       yes        good        no     dissatisfied\n",
      "6          hr         hr        no   excellent       yes        satisfied\n",
      "7   marketing  marketing       yes         bad        no   very_satisfied\n",
      "8          hr         hr        no   excellent       yes   very_satisfied\n",
      "9          it  operation       yes         bad        no        satisfied\n",
      "10         hr         hr        no   excellent       yes     dissatisfied\n",
      "11         it  operation       yes        good        no        satisfied\n",
      "12  marketing  marketing        no         bad        no        satisfied\n",
      "13    finance    finance       yes        good       yes     dissatisfied\n",
      "14  marketing  marketing        no         bad        no        satisfied\n"
     ]
    }
   ],
   "source": [
    "# test=df.values.tolist();\n",
    "# print(test)\n",
    "# for i in range(len(test)):\n",
    "#     test[i].pop(0)\n",
    "# print(test)\n",
    "\n",
    "# df=pd.DataFrame(test);\n",
    "# df.head(5)\n",
    "df=pd.read_csv('../temp.csv')\n",
    "print(df)"
   ]
  },
  {
   "cell_type": "code",
   "execution_count": 161,
   "id": "a4478e6e",
   "metadata": {},
   "outputs": [],
   "source": [
    "def divide_data(data, feature):\n",
    "    # here we are working data frames.\n",
    "    \n",
    "    DATA = {}\n",
    "    \n",
    "    feat_values = list(data[feature].value_counts().index)\n",
    "    occurence = list(data[feature].value_counts())\n",
    "    \n",
    "    for val in feat_values:\n",
    "        DATA[val] = {'data' : pd.DataFrame([], columns = data.columns), 'len': 0}\n",
    "        \n",
    "    \n",
    "    for ix in range(data.shape[0]):\n",
    "        val = data[feature].iloc[ix]\n",
    "        \n",
    "        DATA[val]['data'] = DATA[val]['data']._append(data.iloc[ix])\n",
    "    \n",
    "        idx = feat_values.index(val)\n",
    "        DATA[val]['len']  = occurence[idx]\n",
    "    \n",
    "    return DATA"
   ]
  },
  {
   "cell_type": "code",
   "execution_count": 162,
   "id": "68913b46",
   "metadata": {},
   "outputs": [
    {
     "data": {
      "text/plain": [
       "{'hr': {'data':    department job_role over_time performance attrition job_satisfaction\n",
       "  0          hr       hr       yes   excellent       yes   very_satisfied\n",
       "  4          hr       hr        no   excellent       yes          neutral\n",
       "  6          hr       hr        no   excellent       yes        satisfied\n",
       "  8          hr       hr        no   excellent       yes   very_satisfied\n",
       "  10         hr       hr        no   excellent       yes     dissatisfied,\n",
       "  'len': 5},\n",
       " 'marketing': {'data':    department   job_role over_time performance attrition job_satisfaction\n",
       "  1   marketing  marketing       yes   excellent        no   very_satisfied\n",
       "  7   marketing  marketing       yes         bad        no   very_satisfied\n",
       "  12  marketing  marketing        no         bad        no        satisfied\n",
       "  14  marketing  marketing        no         bad        no        satisfied,\n",
       "  'len': 4},\n",
       " 'finance': {'data':    department job_role over_time performance attrition job_satisfaction\n",
       "  2     finance  finance        no        good        no        satisfied\n",
       "  5     finance  finance       yes        good        no     dissatisfied\n",
       "  13    finance  finance       yes        good       yes     dissatisfied,\n",
       "  'len': 3},\n",
       " 'it': {'data':    department   job_role over_time performance attrition job_satisfaction\n",
       "  3          it  operation       yes         bad       yes     dissatisfied\n",
       "  9          it  operation       yes         bad        no        satisfied\n",
       "  11         it  operation       yes        good        no        satisfied,\n",
       "  'len': 3}}"
      ]
     },
     "execution_count": 162,
     "metadata": {},
     "output_type": "execute_result"
    }
   ],
   "source": [
    "divide_data(df,'department')"
   ]
  },
  {
   "cell_type": "code",
   "execution_count": null,
   "id": "5fcc80fd",
   "metadata": {},
   "outputs": [],
   "source": []
  },
  {
   "cell_type": "markdown",
   "id": "b63a4ba2",
   "metadata": {},
   "source": [
    "### CODE : Information Gain"
   ]
  },
  {
   "cell_type": "code",
   "execution_count": null,
   "id": "80762a03",
   "metadata": {},
   "outputs": [],
   "source": []
  },
  {
   "cell_type": "code",
   "execution_count": 163,
   "id": "6d099d2d",
   "metadata": {},
   "outputs": [],
   "source": [
    "def information_gain(data, feature):\n",
    "    examples = data.shape[0]\n",
    "    \n",
    "    DATA = divide_data(data, feature)\n",
    "    \n",
    "    keys = DATA.keys()\n",
    "    \n",
    "    \n",
    "    ent_of_children = 0.0\n",
    "    \n",
    "    for key in keys:\n",
    "        ent_of_children +=  ( (DATA[key]['len']/examples) * entropy(DATA[key]['data'][output_feature]) )\n",
    "        \n",
    "    info_gain = entropy(data[output_feature]) - ent_of_children\n",
    "    return info_gain"
   ]
  },
  {
   "cell_type": "code",
   "execution_count": 164,
   "id": "a4b2e0fd",
   "metadata": {},
   "outputs": [
    {
     "data": {
      "text/plain": [
       "0.5316112300691394"
      ]
     },
     "execution_count": 164,
     "metadata": {},
     "output_type": "execute_result"
    }
   ],
   "source": [
    "information_gain(df, 'department')"
   ]
  },
  {
   "cell_type": "code",
   "execution_count": 165,
   "id": "fe76c1f8",
   "metadata": {},
   "outputs": [
    {
     "data": {
      "text/plain": [
       "0.5316112300691394"
      ]
     },
     "execution_count": 165,
     "metadata": {},
     "output_type": "execute_result"
    }
   ],
   "source": [
    "information_gain(df, 'job_role')"
   ]
  },
  {
   "cell_type": "code",
   "execution_count": 166,
   "id": "cc7ec047",
   "metadata": {},
   "outputs": [
    {
     "data": {
      "text/plain": [
       "0.19679163198163652"
      ]
     },
     "execution_count": 166,
     "metadata": {},
     "output_type": "execute_result"
    }
   ],
   "source": [
    "information_gain(df, 'over_time')"
   ]
  },
  {
   "cell_type": "code",
   "execution_count": 167,
   "id": "d7f6c7f9",
   "metadata": {},
   "outputs": [
    {
     "data": {
      "text/plain": [
       "0.3655962303576019"
      ]
     },
     "execution_count": 167,
     "metadata": {},
     "output_type": "execute_result"
    }
   ],
   "source": [
    "information_gain(df, 'performance')"
   ]
  },
  {
   "cell_type": "code",
   "execution_count": 168,
   "metadata": {},
   "outputs": [
    {
     "data": {
      "text/plain": [
       "0.2537751634665262"
      ]
     },
     "execution_count": 168,
     "metadata": {},
     "output_type": "execute_result"
    }
   ],
   "source": [
    "information_gain(df, 'attrition')"
   ]
  },
  {
   "cell_type": "markdown",
   "id": "01123d80",
   "metadata": {},
   "source": [
    "### Constructing a Decision Tree\n"
   ]
  },
  {
   "cell_type": "code",
   "execution_count": 169,
   "id": "27d9a136",
   "metadata": {},
   "outputs": [],
   "source": [
    "class DecisionTree:\n",
    "    \n",
    "    # constructor\n",
    "    def __init__(self, depth=0, max_depth=5):\n",
    "        # Creating a Node\n",
    "        self.children = {}\n",
    "        self.fkey = None\n",
    "        self.max_depth = max_depth\n",
    "        self.depth = depth\n",
    "        self.target = None\n",
    "        \n",
    "    def train(self, data):\n",
    "        features = data.columns[:-1]\n",
    "        \n",
    "        info_gains = []\n",
    "            \n",
    "        for f in features:\n",
    "            i_gain = information_gain(data, f)\n",
    "            info_gains.append(i_gain)\n",
    "            \n",
    "        # finding the best feature\n",
    "        self.fkey = features[np.argmax(info_gains)]\n",
    "        \n",
    "        #Spliting the Data\n",
    "        DATA = divide_data(data, self.fkey)\n",
    "        \n",
    "        \n",
    "        \n",
    "        # Giving a target label to the Node\n",
    "        labels = list(data[output_feature].value_counts().index)\n",
    "        freq = list(data[output_feature].value_counts().values)\n",
    "        \n",
    "        self.target = labels[np.argmax(freq)]\n",
    "        \n",
    "\n",
    "        ###### STOPPING CONDITIONS ######\n",
    "        \n",
    "        have_data = 0\n",
    "        keys = DATA.keys()\n",
    "        \n",
    "        for key in keys:\n",
    "            if DATA[key]['len'] > 0:\n",
    "                have_data +=1\n",
    "        \n",
    "        # 1. If it is pure node \n",
    "        if have_data<2:\n",
    "            print(\"\\t\"*self.depth + \"Leaf Node : \"+ self.target)\n",
    "            return \n",
    "        \n",
    "    \n",
    "        # 2. Early Stop if you have reached max depth\n",
    "        if(self.depth >= self.max_depth):\n",
    "            print(\"\\t\"*self.depth + \"Leaf Node : \"+ self.target)\n",
    "            return\n",
    "        \n",
    "        \n",
    "        print(\"\\t\"*self.depth + \"Node : \", self.fkey)\n",
    "        \n",
    "        \n",
    "        # Recursively train child Node\n",
    "        for key in keys:\n",
    "            new_data = DATA[key]['data']\n",
    "            self.children[key] = DecisionTree(depth = self.depth + 1)\n",
    "            self.children[key].train(new_data)\n",
    "            \n",
    "        return  \n",
    "    \n",
    "    \n",
    "    def predict(self, test):\n",
    "        if self.children == {}:\n",
    "            return self.target\n",
    "        print(\"\\t\"*self.depth + \"Testing Node for - \", self.fkey);\n",
    "        return self.children[test[self.fkey][0]].predict(test)"
   ]
  },
  {
   "cell_type": "markdown",
   "id": "ddf41668",
   "metadata": {},
   "source": [
    "# Model"
   ]
  },
  {
   "cell_type": "code",
   "execution_count": 170,
   "id": "b97cbf66",
   "metadata": {},
   "outputs": [],
   "source": [
    "model = DecisionTree()"
   ]
  },
  {
   "cell_type": "code",
   "execution_count": 171,
   "id": "2e864622",
   "metadata": {},
   "outputs": [
    {
     "name": "stdout",
     "output_type": "stream",
     "text": [
      "Node :  department\n",
      "\tNode :  over_time\n",
      "\t\tLeaf Node : neutral\n",
      "\t\tLeaf Node : very_satisfied\n",
      "\tNode :  over_time\n",
      "\t\tLeaf Node : very_satisfied\n",
      "\t\tLeaf Node : satisfied\n",
      "\tNode :  over_time\n",
      "\t\tLeaf Node : dissatisfied\n",
      "\t\tLeaf Node : satisfied\n",
      "\tNode :  attrition\n",
      "\t\tLeaf Node : satisfied\n",
      "\t\tLeaf Node : dissatisfied\n"
     ]
    }
   ],
   "source": [
    "model.train(df)"
   ]
  },
  {
   "cell_type": "code",
   "execution_count": 172,
   "id": "816a2a32",
   "metadata": {},
   "outputs": [
    {
     "data": {
      "text/plain": [
       "<__main__.DecisionTree at 0x1472f0850>"
      ]
     },
     "execution_count": 172,
     "metadata": {},
     "output_type": "execute_result"
    }
   ],
   "source": [
    "model"
   ]
  },
  {
   "cell_type": "code",
   "execution_count": 173,
   "id": "aac46af2",
   "metadata": {},
   "outputs": [
    {
     "data": {
      "text/plain": [
       "'satisfied'"
      ]
     },
     "execution_count": 173,
     "metadata": {},
     "output_type": "execute_result"
    }
   ],
   "source": [
    "model.target"
   ]
  },
  {
   "cell_type": "code",
   "execution_count": 174,
   "id": "b24dfda6",
   "metadata": {},
   "outputs": [
    {
     "data": {
      "text/plain": [
       "'department'"
      ]
     },
     "execution_count": 174,
     "metadata": {},
     "output_type": "execute_result"
    }
   ],
   "source": [
    "model.fkey"
   ]
  },
  {
   "cell_type": "code",
   "execution_count": 175,
   "id": "0d77bf3e",
   "metadata": {},
   "outputs": [
    {
     "data": {
      "text/plain": [
       "{'hr': <__main__.DecisionTree at 0x1470bc4c0>,\n",
       " 'marketing': <__main__.DecisionTree at 0x144edcd30>,\n",
       " 'finance': <__main__.DecisionTree at 0x1466f1e10>,\n",
       " 'it': <__main__.DecisionTree at 0x1449bf550>}"
      ]
     },
     "execution_count": 175,
     "metadata": {},
     "output_type": "execute_result"
    }
   ],
   "source": [
    "model.children"
   ]
  },
  {
   "cell_type": "code",
   "execution_count": 176,
   "id": "f322409e",
   "metadata": {},
   "outputs": [
    {
     "ename": "KeyError",
     "evalue": "'2'",
     "output_type": "error",
     "traceback": [
      "\u001b[0;31m---------------------------------------------------------------------------\u001b[0m",
      "\u001b[0;31mKeyError\u001b[0m                                  Traceback (most recent call last)",
      "\u001b[1;32m/Users/vicky_gupta/Desktop/code/College/Data Mining/FInal Test/Decision Trees.ipynb Cell 34\u001b[0m line \u001b[0;36m1\n\u001b[0;32m----> <a href='vscode-notebook-cell:/Users/vicky_gupta/Desktop/code/College/Data%20Mining/FInal%20Test/Decision%20Trees.ipynb#X44sZmlsZQ%3D%3D?line=0'>1</a>\u001b[0m model\u001b[39m.\u001b[39;49mchildren[\u001b[39m'\u001b[39;49m\u001b[39m2\u001b[39;49m\u001b[39m'\u001b[39;49m]\n",
      "\u001b[0;31mKeyError\u001b[0m: '2'"
     ]
    }
   ],
   "source": [
    "model.children['2']"
   ]
  },
  {
   "cell_type": "code",
   "execution_count": null,
   "id": "967c084b",
   "metadata": {},
   "outputs": [
    {
     "data": {
      "text/plain": [
       "'credit_rating'"
      ]
     },
     "execution_count": 25,
     "metadata": {},
     "output_type": "execute_result"
    }
   ],
   "source": [
    "model.children['1'].fkey"
   ]
  },
  {
   "cell_type": "code",
   "execution_count": null,
   "id": "1b1b6a37",
   "metadata": {},
   "outputs": [
    {
     "data": {
      "text/plain": [
       "{'fair': <__main__.DecisionTree at 0x1446d77f0>,\n",
       " 'excellent': <__main__.DecisionTree at 0x1446d57e0>}"
      ]
     },
     "execution_count": 26,
     "metadata": {},
     "output_type": "execute_result"
    }
   ],
   "source": [
    "model.children['2'].children"
   ]
  },
  {
   "cell_type": "code",
   "execution_count": null,
   "id": "6cae8ba8",
   "metadata": {},
   "outputs": [
    {
     "data": {
      "text/plain": [
       "{}"
      ]
     },
     "execution_count": 27,
     "metadata": {},
     "output_type": "execute_result"
    }
   ],
   "source": [
    "# model.children['2'].children['_'].children"
   ]
  },
  {
   "cell_type": "code",
   "execution_count": null,
   "id": "4a7937bd",
   "metadata": {},
   "outputs": [
    {
     "data": {
      "text/plain": [
       "'yes'"
      ]
     },
     "execution_count": 28,
     "metadata": {},
     "output_type": "execute_result"
    }
   ],
   "source": [
    "model.children['_'].target"
   ]
  },
  {
   "cell_type": "code",
   "execution_count": null,
   "id": "f89676f6",
   "metadata": {},
   "outputs": [
    {
     "data": {
      "text/plain": [
       "{}"
      ]
     },
     "execution_count": 29,
     "metadata": {},
     "output_type": "execute_result"
    }
   ],
   "source": [
    "model.children['_'].children"
   ]
  },
  {
   "cell_type": "markdown",
   "id": "39f6c4b7",
   "metadata": {},
   "source": [
    "# Prediction "
   ]
  },
  {
   "cell_type": "code",
   "execution_count": null,
   "id": "39933506",
   "metadata": {},
   "outputs": [],
   "source": [
    "test_data=[]\n",
    "x_test = pd.DataFrame([['<=30', 'low', 'no', 'fair']], columns=list(df.columns.values[:-1]))"
   ]
  },
  {
   "cell_type": "code",
   "execution_count": null,
   "id": "afbc0099",
   "metadata": {},
   "outputs": [
    {
     "data": {
      "text/html": [
       "<div>\n",
       "<style scoped>\n",
       "    .dataframe tbody tr th:only-of-type {\n",
       "        vertical-align: middle;\n",
       "    }\n",
       "\n",
       "    .dataframe tbody tr th {\n",
       "        vertical-align: top;\n",
       "    }\n",
       "\n",
       "    .dataframe thead th {\n",
       "        text-align: right;\n",
       "    }\n",
       "</style>\n",
       "<table border=\"1\" class=\"dataframe\">\n",
       "  <thead>\n",
       "    <tr style=\"text-align: right;\">\n",
       "      <th></th>\n",
       "      <th>age</th>\n",
       "      <th>income</th>\n",
       "      <th>student</th>\n",
       "      <th>credit_rating</th>\n",
       "    </tr>\n",
       "  </thead>\n",
       "  <tbody>\n",
       "    <tr>\n",
       "      <th>0</th>\n",
       "      <td>&lt;=30</td>\n",
       "      <td>low</td>\n",
       "      <td>no</td>\n",
       "      <td>fair</td>\n",
       "    </tr>\n",
       "  </tbody>\n",
       "</table>\n",
       "</div>"
      ],
      "text/plain": [
       "    age income student credit_rating\n",
       "0  <=30    low      no          fair"
      ]
     },
     "execution_count": 31,
     "metadata": {},
     "output_type": "execute_result"
    }
   ],
   "source": [
    "x_test"
   ]
  },
  {
   "cell_type": "code",
   "execution_count": null,
   "id": "eb24cda9",
   "metadata": {
    "scrolled": true
   },
   "outputs": [
    {
     "name": "stdout",
     "output_type": "stream",
     "text": [
      "Testing Node for -  age\n",
      "\tTesting Node for -  student\n"
     ]
    },
    {
     "data": {
      "text/plain": [
       "'no'"
      ]
     },
     "execution_count": 32,
     "metadata": {},
     "output_type": "execute_result"
    }
   ],
   "source": [
    "model.predict(x_test)"
   ]
  },
  {
   "cell_type": "code",
   "execution_count": null,
   "id": "ea650ab0",
   "metadata": {},
   "outputs": [],
   "source": []
  }
 ],
 "metadata": {
  "kernelspec": {
   "display_name": "Python 3",
   "language": "python",
   "name": "python3"
  },
  "language_info": {
   "codemirror_mode": {
    "name": "ipython",
    "version": 3
   },
   "file_extension": ".py",
   "mimetype": "text/x-python",
   "name": "python",
   "nbconvert_exporter": "python",
   "pygments_lexer": "ipython3",
   "version": "3.10.7"
  }
 },
 "nbformat": 4,
 "nbformat_minor": 5
}
