{
 "cells": [
  {
   "cell_type": "code",
   "execution_count": 124,
   "metadata": {},
   "outputs": [],
   "source": [
    "import random;\n",
    "\n",
    "# We will use this list to store the dataset\n",
    "DATASET=[]\n",
    "\n",
    "# Number of clusters\n",
    "K=2\n",
    "\n",
    "# Number of Features\n",
    "F=2\n"
   ]
  },
  {
   "cell_type": "code",
   "execution_count": 125,
   "metadata": {},
   "outputs": [
    {
     "name": "stdout",
     "output_type": "stream",
     "text": [
      "[(-3.0, 5.0), (-1.0, 2.0), (2.0, 3.0), (-4.0, -5.0), (-1.0, -5.0), (5.0, 4.0), (3.0, 7.0), (8.0, 5.0), (4.0, 4.0), (3.0, 5.0)]\n"
     ]
    }
   ],
   "source": [
    "# File Read\n",
    "def GetDataPointsFromFile(filePath):\n",
    "    file = open(filePath, 'r')\n",
    "    for line in file:\n",
    "        data_point = line.split()\n",
    "        if(len(data_point)==0):\n",
    "            continue\n",
    "        DATASET.append((float(data_point[1]),float(data_point[2])));\n",
    "\n",
    "GetDataPointsFromFile(\"Dataset.txt\");\n",
    "print(DATASET);\n",
    "# Number of points in the dataset\n",
    "N=len(DATASET)"
   ]
  },
  {
   "cell_type": "code",
   "execution_count": 126,
   "metadata": {},
   "outputs": [
    {
     "name": "stdout",
     "output_type": "stream",
     "text": [
      "[(8.916562659683793, 4.714459966736573), (9.378639062472734, 7.79107750857452)]\n"
     ]
    }
   ],
   "source": [
    "# Select K points as cluster center\n",
    "points=[]\n",
    "for i in range(K):\n",
    "    points.append((random.uniform(0,10),random.uniform(0,10)));\n",
    "print(points);"
   ]
  },
  {
   "cell_type": "code",
   "execution_count": 127,
   "metadata": {},
   "outputs": [
    {
     "data": {
      "text/plain": [
       "{0: [0, 1, 2, 3, 4, 5, 6, 7, 8, 9]}"
      ]
     },
     "execution_count": 127,
     "metadata": {},
     "output_type": "execute_result"
    }
   ],
   "source": [
    "# Find the Euclidean Distance and assign to the data point to the nearest cluster\n",
    "clusters={}\n",
    "def assignClusters(points):\n",
    "    new_cluster={}\n",
    "    for d_indx in range(N):\n",
    "        min_distance=1e9\n",
    "        cluster_index=0\n",
    "        for k_index in range(K):\n",
    "            distance = 0;\n",
    "            for f_index in range(F):\n",
    "                distance+=(DATASET[d_indx][f_index]-points[k_index][f_index])**2\n",
    "                \n",
    "            if(distance<min_distance):\n",
    "                min_distance=distance\n",
    "                cluster_index=k_index\n",
    "    \n",
    "        if new_cluster.get(cluster_index)==None:\n",
    "            new_cluster[cluster_index]=[]\n",
    "        new_cluster[cluster_index].append(d_indx)\n",
    "        \n",
    "    return new_cluster\n",
    "assignClusters(points)\n"
   ]
  },
  {
   "cell_type": "code",
   "execution_count": 128,
   "metadata": {},
   "outputs": [],
   "source": [
    "# Find the means of the clusters and update the cluster center\n",
    "def updateClusterCenter(clusters):\n",
    "    new_points=[]\n",
    "    for cluster_index in clusters:\n",
    "        sum=[0]*F;\n",
    "        for d_indx in clusters[cluster_index]:\n",
    "            for f_index in range(F):\n",
    "                sum[f_index]+=DATASET[d_indx][f_index]\n",
    "        \n",
    "        for f_index in range(F):\n",
    "            sum[f_index]/=len(clusters[cluster_index])\n",
    "            sum[f_index]=(sum[f_index])\n",
    "\n",
    "        new_points.append(tuple(sum))\n",
    "        \n",
    "    return new_points\n",
    "\n"
   ]
  },
  {
   "cell_type": "code",
   "execution_count": 129,
   "metadata": {},
   "outputs": [
    {
     "ename": "IndexError",
     "evalue": "list index out of range",
     "output_type": "error",
     "traceback": [
      "\u001b[0;31m---------------------------------------------------------------------------\u001b[0m",
      "\u001b[0;31mIndexError\u001b[0m                                Traceback (most recent call last)",
      "\u001b[1;32m/Users/vicky_gupta/Desktop/code/College/Data Mining/Day5/Q1.ipynb Cell 6\u001b[0m line \u001b[0;36m2\n\u001b[1;32m      <a href='vscode-notebook-cell:/Users/vicky_gupta/Desktop/code/College/Data%20Mining/Day5/Q1.ipynb#W5sZmlsZQ%3D%3D?line=0'>1</a>\u001b[0m \u001b[39mwhile\u001b[39;00m(\u001b[39mTrue\u001b[39;00m):\n\u001b[0;32m----> <a href='vscode-notebook-cell:/Users/vicky_gupta/Desktop/code/College/Data%20Mining/Day5/Q1.ipynb#W5sZmlsZQ%3D%3D?line=1'>2</a>\u001b[0m     clusters\u001b[39m=\u001b[39massignClusters(points);\n\u001b[1;32m      <a href='vscode-notebook-cell:/Users/vicky_gupta/Desktop/code/College/Data%20Mining/Day5/Q1.ipynb#W5sZmlsZQ%3D%3D?line=2'>3</a>\u001b[0m     new_points\u001b[39m=\u001b[39mupdateClusterCenter(clusters)\n\u001b[1;32m      <a href='vscode-notebook-cell:/Users/vicky_gupta/Desktop/code/College/Data%20Mining/Day5/Q1.ipynb#W5sZmlsZQ%3D%3D?line=3'>4</a>\u001b[0m     \u001b[39mif\u001b[39;00m(new_points\u001b[39m==\u001b[39mpoints):\n",
      "\u001b[1;32m/Users/vicky_gupta/Desktop/code/College/Data Mining/Day5/Q1.ipynb Cell 6\u001b[0m line \u001b[0;36m1\n\u001b[1;32m      <a href='vscode-notebook-cell:/Users/vicky_gupta/Desktop/code/College/Data%20Mining/Day5/Q1.ipynb#W5sZmlsZQ%3D%3D?line=8'>9</a>\u001b[0m distance \u001b[39m=\u001b[39m \u001b[39m0\u001b[39m;\n\u001b[1;32m     <a href='vscode-notebook-cell:/Users/vicky_gupta/Desktop/code/College/Data%20Mining/Day5/Q1.ipynb#W5sZmlsZQ%3D%3D?line=9'>10</a>\u001b[0m \u001b[39mfor\u001b[39;00m f_index \u001b[39min\u001b[39;00m \u001b[39mrange\u001b[39m(F):\n\u001b[0;32m---> <a href='vscode-notebook-cell:/Users/vicky_gupta/Desktop/code/College/Data%20Mining/Day5/Q1.ipynb#W5sZmlsZQ%3D%3D?line=10'>11</a>\u001b[0m     distance\u001b[39m+\u001b[39m\u001b[39m=\u001b[39m(DATASET[d_indx][f_index]\u001b[39m-\u001b[39mpoints[k_index][f_index])\u001b[39m*\u001b[39m\u001b[39m*\u001b[39m\u001b[39m2\u001b[39m\n\u001b[1;32m     <a href='vscode-notebook-cell:/Users/vicky_gupta/Desktop/code/College/Data%20Mining/Day5/Q1.ipynb#W5sZmlsZQ%3D%3D?line=12'>13</a>\u001b[0m \u001b[39mif\u001b[39;00m(distance\u001b[39m<\u001b[39mmin_distance):\n\u001b[1;32m     <a href='vscode-notebook-cell:/Users/vicky_gupta/Desktop/code/College/Data%20Mining/Day5/Q1.ipynb#W5sZmlsZQ%3D%3D?line=13'>14</a>\u001b[0m     min_distance\u001b[39m=\u001b[39mdistance\n",
      "\u001b[0;31mIndexError\u001b[0m: list index out of range"
     ]
    }
   ],
   "source": [
    "while(True):\n",
    "    clusters=assignClusters(points);\n",
    "    new_points=updateClusterCenter(clusters)\n",
    "    if(new_points==points):\n",
    "        print(\"CENTROID : \",new_points)\n",
    "        print(\"CLUSTERS : \",clusters)\n",
    "        break\n",
    "    points=new_points"
   ]
  }
 ],
 "metadata": {
  "kernelspec": {
   "display_name": "Python 3",
   "language": "python",
   "name": "python3"
  },
  "language_info": {
   "codemirror_mode": {
    "name": "ipython",
    "version": 3
   },
   "file_extension": ".py",
   "mimetype": "text/x-python",
   "name": "python",
   "nbconvert_exporter": "python",
   "pygments_lexer": "ipython3",
   "version": "3.10.7"
  },
  "orig_nbformat": 4
 },
 "nbformat": 4,
 "nbformat_minor": 2
}
